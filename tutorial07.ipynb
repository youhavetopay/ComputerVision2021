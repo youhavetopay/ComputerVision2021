{
 "cells": [
  {
   "cell_type": "code",
   "execution_count": 1,
   "id": "21ea5571-6f7b-4a27-bf43-568aa878c7f8",
   "metadata": {},
   "outputs": [],
   "source": [
    "li = [3,6,2,7]"
   ]
  },
  {
   "cell_type": "code",
   "execution_count": 2,
   "id": "647d33c6-4664-4cf8-b7c8-97968d148791",
   "metadata": {},
   "outputs": [
    {
     "data": {
      "text/plain": [
       "[6, 12, 4, 14]"
      ]
     },
     "execution_count": 2,
     "metadata": {},
     "output_type": "execute_result"
    }
   ],
   "source": [
    "[elem * 2 for elem in li]"
   ]
  },
  {
   "cell_type": "code",
   "execution_count": 4,
   "id": "df5eb89d-4c83-4084-a419-bce8388a0c99",
   "metadata": {},
   "outputs": [],
   "source": [
    "li = [('a', 1), ('b', 2), ('c', 7)]"
   ]
  },
  {
   "cell_type": "code",
   "execution_count": 5,
   "id": "e45926a6-7070-45c3-8182-9af01df5d6f3",
   "metadata": {},
   "outputs": [
    {
     "data": {
      "text/plain": [
       "[3, 6, 21]"
      ]
     },
     "execution_count": 5,
     "metadata": {},
     "output_type": "execute_result"
    }
   ],
   "source": [
    "[n*3 for (x,n) in li]"
   ]
  },
  {
   "cell_type": "code",
   "execution_count": 6,
   "id": "a322e11d-0226-4fda-b92b-403547ee658d",
   "metadata": {},
   "outputs": [],
   "source": [
    "li = [3,6,2,7,1,9]"
   ]
  },
  {
   "cell_type": "code",
   "execution_count": 7,
   "id": "63040206-e69e-44fa-804a-a92a5d05fefb",
   "metadata": {},
   "outputs": [
    {
     "data": {
      "text/plain": [
       "[12, 14, 18]"
      ]
     },
     "execution_count": 7,
     "metadata": {},
     "output_type": "execute_result"
    }
   ],
   "source": [
    "[elem * 2 for elem in li if elem > 4]"
   ]
  },
  {
   "cell_type": "code",
   "execution_count": 8,
   "id": "d3e331ce-6879-4d77-b75f-693971d7c7f6",
   "metadata": {},
   "outputs": [],
   "source": [
    "li = [3,2,4,1]"
   ]
  },
  {
   "cell_type": "code",
   "execution_count": 9,
   "id": "181068be-d204-4115-887e-34c8d8dce72b",
   "metadata": {},
   "outputs": [
    {
     "data": {
      "text/plain": [
       "[8, 6, 10, 4]"
      ]
     },
     "execution_count": 9,
     "metadata": {},
     "output_type": "execute_result"
    }
   ],
   "source": [
    "[elem * 2 for elem in [item+1 for item in li]]"
   ]
  },
  {
   "cell_type": "code",
   "execution_count": null,
   "id": "8ff201bd-ce75-47ec-b9c5-6db04deb8bc4",
   "metadata": {},
   "outputs": [],
   "source": []
  }
 ],
 "metadata": {
  "kernelspec": {
   "display_name": "Python 3 (ipykernel)",
   "language": "python",
   "name": "python3"
  },
  "language_info": {
   "codemirror_mode": {
    "name": "ipython",
    "version": 3
   },
   "file_extension": ".py",
   "mimetype": "text/x-python",
   "name": "python",
   "nbconvert_exporter": "python",
   "pygments_lexer": "ipython3",
   "version": "3.8.11"
  }
 },
 "nbformat": 4,
 "nbformat_minor": 5
}
