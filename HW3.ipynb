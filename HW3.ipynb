{
 "cells": [
  {
   "cell_type": "markdown",
   "id": "9c1c0485-e07e-46a2-b58d-c3040ab9fcec",
   "metadata": {},
   "source": [
    "### HomeWork3"
   ]
  },
  {
   "cell_type": "code",
   "execution_count": 1,
   "id": "2e8db793-9e56-418d-bda6-21fad8c36086",
   "metadata": {},
   "outputs": [],
   "source": [
    "import numpy as np\n",
    "import cv2"
   ]
  },
  {
   "cell_type": "code",
   "execution_count": 2,
   "id": "a08453eb-55a5-4168-8ac4-0ab787161c08",
   "metadata": {},
   "outputs": [],
   "source": [
    "cap = cv2.VideoCapture(0)\n",
    "# cap.set(cv2.cv.CV_CAP_PROP_FRAME_WIDTH, 1280)\n",
    "# cap.set(cv2.cv.CV_CAP_PROP_FRAME_HEIGHT, 720)"
   ]
  },
  {
   "cell_type": "code",
   "execution_count": 3,
   "id": "7879cfb2-fc72-43e9-b2e3-8e037ebc32cb",
   "metadata": {},
   "outputs": [],
   "source": [
    "while True:\n",
    "    ret, frame = cap.read()\n",
    "    roi = frame[0:500, 0:500]\n",
    "    gray = cv2.cvtColor(roi, cv2.COLOR_BGR2GRAY)\n",
    "    gray_blur = cv2.GaussianBlur(gray, (15, 15), 0)\n",
    "    \n",
    "    thresh = cv2.adaptiveThreshold(\n",
    "        gray_blur, \n",
    "        255, \n",
    "        cv2.ADAPTIVE_THRESH_GAUSSIAN_C,\n",
    "        cv2.THRESH_BINARY_INV, \n",
    "        11, \n",
    "        1\n",
    "    )\n",
    "    \n",
    "    kernel = np.ones((3, 3), np.uint8)\n",
    "    closing = cv2.morphologyEx(thresh, cv2.MORPH_CLOSE, kernel, iterations=4)\n",
    "    \n",
    "    cont_img = closing.copy()\n",
    "    contours, hierarchy = cv2.findContours(\n",
    "        cont_img, cv2.RETR_EXTERNAL,\n",
    "        cv2.CHAIN_APPROX_SIMPLE)\n",
    "    \n",
    "    for cnt in contours:\n",
    "        area = cv2.contourArea(cnt)\n",
    "        if area < 2000 or area > 4000:\n",
    "            continue\n",
    "        if len(cnt) < 5:\n",
    "            continue\n",
    "        ellipse = cv2.fitEllipse(cnt)\n",
    "        cv2.ellipse(roi, ellipse, (0,255,0), 2)\n",
    "    \n",
    "    \n",
    "    cv2.imshow('frame',frame)\n",
    "    cv2.imshow('thresh',thresh)\n",
    "    cv2.imshow('closing', closing)\n",
    "    k = cv2.waitKey(5) & 0xFF\n",
    "    if k == 27:\n",
    "        break\n",
    "\n",
    "cap.release()\n",
    "cv2.destroyAllWindows()"
   ]
  },
  {
   "cell_type": "code",
   "execution_count": null,
   "id": "c9a318c5-3fc3-4c2f-844b-0710afe6b7e1",
   "metadata": {},
   "outputs": [],
   "source": []
  }
 ],
 "metadata": {
  "kernelspec": {
   "display_name": "Python 3 (ipykernel)",
   "language": "python",
   "name": "python3"
  },
  "language_info": {
   "codemirror_mode": {
    "name": "ipython",
    "version": 3
   },
   "file_extension": ".py",
   "mimetype": "text/x-python",
   "name": "python",
   "nbconvert_exporter": "python",
   "pygments_lexer": "ipython3",
   "version": "3.8.11"
  }
 },
 "nbformat": 4,
 "nbformat_minor": 5
}
