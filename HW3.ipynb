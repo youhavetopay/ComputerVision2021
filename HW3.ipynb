{
 "cells": [
  {
   "cell_type": "markdown",
   "id": "9c1c0485-e07e-46a2-b58d-c3040ab9fcec",
   "metadata": {},
   "source": [
    "### HomeWork3"
   ]
  },
  {
   "cell_type": "code",
   "execution_count": 26,
   "id": "2e8db793-9e56-418d-bda6-21fad8c36086",
   "metadata": {},
   "outputs": [],
   "source": [
    "import numpy as np\n",
    "import cv2"
   ]
  },
  {
   "cell_type": "code",
   "execution_count": 58,
   "id": "7879cfb2-fc72-43e9-b2e3-8e037ebc32cb",
   "metadata": {},
   "outputs": [],
   "source": [
    "cap = cv2.VideoCapture(0)\n",
    "# cap.set(cv2.CAP_PROP_FRAME_WIDTH, 1280)\n",
    "# cap.set(cv2.CAP_PROP_FRAME_HEIGHT, 720)\n",
    "\n",
    "while True:\n",
    "    ret, frame = cap.read()\n",
    "#     roi = frame[0:500, 0:500]\n",
    "    # 가져온 이미지의 일부분 만 가져와서 회색으로 표현\n",
    "    gray = cv2.cvtColor(frame, cv2.COLOR_BGR2GRAY)\n",
    "    \n",
    "    # 가우시안 블러를 통해 노이즈 제거\n",
    "    gray_blur = cv2.GaussianBlur(gray, (15, 15), 0)\n",
    "\n",
    "    \n",
    "    # 그 후 임계처리(임계값을 기준으로 흑백 나누는것)\n",
    "    thresh = cv2.adaptiveThreshold(\n",
    "        gray_blur, # 블러처리한 이미지\n",
    "        255, # 임계값\n",
    "        cv2.ADAPTIVE_THRESH_GAUSSIAN_C, # 처리할 방법(여기선 가우시안)\n",
    "        cv2.THRESH_BINARY_INV, #오로지 흑백으로 하는건데 역전된거\n",
    "        11, # 블럭 사이즈\n",
    "        1\n",
    "    )\n",
    "    \n",
    "    # 커널의 값에 따라 검은색이 흰색으로 바뀌는 정도가 달라짐\n",
    "    kernel = np.ones((3, 3), np.uint8)\n",
    "    # Dilation(오브젝트 외곽선 흰색) 연산 후 Erosion(흰색 오브젝트의 외곽선 검은색)연산 진행  \n",
    "    # --> 흰색 오브젝트에 있는 검은색을 흰색으로 변경\n",
    "    closing = cv2.morphologyEx(thresh, cv2.MORPH_CLOSE, kernel, iterations=4)\n",
    "    \n",
    "    cont_img = closing.copy()\n",
    "    contours, hierarchy = cv2.findContours( # 윤곽선 검색후 윤곽선과 계층정보(속성 정보) 반환\n",
    "        cont_img, # 이미지\n",
    "        cv2.RETR_EXTERNAL, # 검색방법 (외곽윤각선만 검출 , 계층정보 구성하지 않음)\n",
    "        cv2.CHAIN_APPROX_SIMPLE) # 근사화 방법?\n",
    "    \n",
    "    for cnt in contours:\n",
    "        area = cv2.contourArea(cnt) # 검출한 외곽선의 너비\n",
    "        if area < 2000 or area > 3000: # 면적이 일정수준을 넘어가거나 못미치면 패스\n",
    "            continue\n",
    "        if len(cnt) < 3: \n",
    "            continue\n",
    "        ellipse = cv2.fitEllipse(cnt) # 검출된 외곽선을 감싸는 타원 반환\n",
    "        cv2.ellipse(frame, ellipse, (0,255,0), 2) # frame에 그려주기\n",
    "    \n",
    "    \n",
    "    \n",
    "    cv2.imshow('frame',frame)\n",
    "    \n",
    "    cv2.imshow('test1', gray_blur)\n",
    "    \n",
    "    cv2.imshow('thresh',thresh)\n",
    "    cv2.imshow('closing', closing)\n",
    "    k = cv2.waitKey(5) & 0xFF\n",
    "    if k == 27:\n",
    "        break\n",
    "\n",
    "cap.release()\n",
    "cv2.destroyAllWindows()"
   ]
  },
  {
   "cell_type": "code",
   "execution_count": null,
   "id": "c9a318c5-3fc3-4c2f-844b-0710afe6b7e1",
   "metadata": {},
   "outputs": [],
   "source": []
  }
 ],
 "metadata": {
  "kernelspec": {
   "display_name": "Python 3 (ipykernel)",
   "language": "python",
   "name": "python3"
  },
  "language_info": {
   "codemirror_mode": {
    "name": "ipython",
    "version": 3
   },
   "file_extension": ".py",
   "mimetype": "text/x-python",
   "name": "python",
   "nbconvert_exporter": "python",
   "pygments_lexer": "ipython3",
   "version": "3.8.11"
  }
 },
 "nbformat": 4,
 "nbformat_minor": 5
}
