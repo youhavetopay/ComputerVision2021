{
 "cells": [
  {
   "cell_type": "markdown",
   "id": "191c2050-8769-42bc-8888-50f978c3427b",
   "metadata": {},
   "source": [
    "### 1.2.3 Drawing Functions in OpenCV"
   ]
  },
  {
   "cell_type": "code",
   "execution_count": 12,
   "id": "c24e4aac-151d-4dcb-b4ff-bd2fa5b23cbc",
   "metadata": {},
   "outputs": [],
   "source": [
    "import numpy as np\n",
    "import cv2"
   ]
  },
  {
   "cell_type": "code",
   "execution_count": 13,
   "id": "34039cf6-6693-4a6d-8ebc-7703784b7a50",
   "metadata": {},
   "outputs": [],
   "source": [
    "# Create a black image\n",
    "img = np.zeros((512,512,3), np.uint8)\n",
    "# Draw a diagonal blue line with thickness of 5 px\n",
    "img = cv2.line(img,(0,0),(511,511),(255,0,0),5)\n",
    "img = cv2.line(img,(511,0),(0,511),(0,255,0),3)"
   ]
  },
  {
   "cell_type": "code",
   "execution_count": 14,
   "id": "c66f3cd8-dbd2-43a8-a0e0-91e4359d2755",
   "metadata": {},
   "outputs": [],
   "source": [
    "while(1):\n",
    "    cv2.imshow('image',img)\n",
    "    if cv2.waitKey(20) & 0xFF == 27: # esc\n",
    "        break\n",
    "cv2.destroyAllWindows()\n"
   ]
  },
  {
   "cell_type": "code",
   "execution_count": 15,
   "id": "deecfa5b-ad81-4036-9b6c-6310f50ef5b4",
   "metadata": {},
   "outputs": [
    {
     "data": {
      "image/png": "[encoded data removed]",
      "text/plain": [
       "<Figure size 432x288 with 1 Axes>"
      ]
     },
     "metadata": {},
     "output_type": "display_data"
    }
   ],
   "source": [
    "from matplotlib import pyplot as plt\n",
    "plt.imshow(img)\n",
    "plt.xticks([]), plt.yticks([]) # to hide tick values on X and Y axis\n",
    "plt.show()"
   ]
  },
  {
   "cell_type": "code",
   "execution_count": 16,
   "id": "9599d3e0-a5a7-443e-9b39-1d4fae32e7dd",
   "metadata": {},
   "outputs": [],
   "source": [
    "img = cv2.rectangle(img,(384,0),(510,128),(0,255,0),3)\n",
    "img = cv2.circle(img,(447,63), 63, (0,0,255), -1)"
   ]
  },
  {
   "cell_type": "code",
   "execution_count": 17,
   "id": "ffe4a57c-51fe-4bde-8340-1cd9a2f4fdde",
   "metadata": {},
   "outputs": [
    {
     "data": {
      "image/png": "[encoded data removed]",
      "text/plain": [
       "<Figure size 432x288 with 1 Axes>"
      ]
     },
     "metadata": {},
     "output_type": "display_data"
    }
   ],
   "source": [
    "plt.imshow(img)\n",
    "plt.xticks([]), plt.yticks([]) # to hide tick values on X and Y axis\n",
    "plt.show()"
   ]
  },
  {
   "cell_type": "code",
   "execution_count": 20,
   "id": "84fc0ec9-b6d8-4ad9-b7e0-814137e9c898",
   "metadata": {},
   "outputs": [],
   "source": [
    "img = cv2.ellipse(img,(256,256),(100,50),0,0,180,255,-1)\n",
    "pts = np.array([[10,5],[20,30],[70,20],[50,10]], np.int32)\n",
    "pts = pts.reshape((-1,1,2))\n",
    "img = cv2.polylines(img,[pts],True,(0,255,255))"
   ]
  },
  {
   "cell_type": "code",
   "execution_count": 19,
   "id": "7cddc118-fb08-43b5-a95c-07a2ac6abe18",
   "metadata": {},
   "outputs": [
    {
     "name": "stdout",
     "output_type": "stream",
     "text": [
      "[10, 5]\n"
     ]
    }
   ],
   "source": [
    "pts = [[10,5],[20,30],[70,20],[50,10]]\n",
    "print(pts[0])"
   ]
  },
  {
   "cell_type": "code",
   "execution_count": 21,
   "id": "9d985c6a-486a-47e8-beb5-d207aa9a41ba",
   "metadata": {},
   "outputs": [
    {
     "data": {
      "text/plain": [
       "array([[[255,   0,   0],\n",
       "        [255,   0,   0],\n",
       "        [255,   0,   0],\n",
       "        ...,\n",
       "        [  0, 255,   0],\n",
       "        [  0, 255,   0],\n",
       "        [  0, 255,   0]],\n",
       "\n",
       "       [[255,   0,   0],\n",
       "        [255,   0,   0],\n",
       "        [255,   0,   0],\n",
       "        ...,\n",
       "        [  0, 255,   0],\n",
       "        [  0, 255,   0],\n",
       "        [  0, 255,   0]],\n",
       "\n",
       "       [[255,   0,   0],\n",
       "        [255,   0,   0],\n",
       "        [255,   0,   0],\n",
       "        ...,\n",
       "        [  0, 255,   0],\n",
       "        [  0, 255,   0],\n",
       "        [  0, 255,   0]],\n",
       "\n",
       "       ...,\n",
       "\n",
       "       [[  0, 255,   0],\n",
       "        [  0, 255,   0],\n",
       "        [  0, 255,   0],\n",
       "        ...,\n",
       "        [255,   0,   0],\n",
       "        [255,   0,   0],\n",
       "        [255,   0,   0]],\n",
       "\n",
       "       [[  0, 255,   0],\n",
       "        [  0, 255,   0],\n",
       "        [  0, 255,   0],\n",
       "        ...,\n",
       "        [255,   0,   0],\n",
       "        [255,   0,   0],\n",
       "        [255,   0,   0]],\n",
       "\n",
       "       [[  0, 255,   0],\n",
       "        [  0, 255,   0],\n",
       "        [  0, 255,   0],\n",
       "        ...,\n",
       "        [255,   0,   0],\n",
       "        [255,   0,   0],\n",
       "        [255,   0,   0]]], dtype=uint8)"
      ]
     },
     "execution_count": 21,
     "metadata": {},
     "output_type": "execute_result"
    }
   ],
   "source": [
    "font = cv2.FONT_HERSHEY_SIMPLEX\n",
    "cv2.putText(img,'OpenCV',(10,500), font, 4,(255,255,255),2,cv2.LINE_AA)"
   ]
  },
  {
   "cell_type": "code",
   "execution_count": 22,
   "id": "b04e592a-8659-4cac-9070-19a9243f6af5",
   "metadata": {},
   "outputs": [
    {
     "data": {
      "image/png": "[encoded data removed]",
      "text/plain": [
       "<Figure size 432x288 with 1 Axes>"
      ]
     },
     "metadata": {},
     "output_type": "display_data"
    }
   ],
   "source": [
    "plt.imshow(img)\n",
    "plt.xticks([]), plt.yticks([]) # to hide tick values on X and Y axis\n",
    "plt.show()"
   ]
  },
  {
   "cell_type": "code",
   "execution_count": null,
   "id": "81de93c4-a2fc-4823-8660-14865e960fa2",
   "metadata": {},
   "outputs": [],
   "source": []
  }
 ],
 "metadata": {
  "kernelspec": {
   "display_name": "Python 3 (ipykernel)",
   "language": "python",
   "name": "python3"
  },
  "language_info": {
   "codemirror_mode": {
    "name": "ipython",
    "version": 3
   },
   "file_extension": ".py",
   "mimetype": "text/x-python",
   "name": "python",
   "nbconvert_exporter": "python",
   "pygments_lexer": "ipython3",
   "version": "3.8.11"
  }
 },
 "nbformat": 4,
 "nbformat_minor": 5
}
