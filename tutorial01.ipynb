{
 "cells": [
  {
   "cell_type": "code",
   "execution_count": 3,
   "id": "196d451e-3351-4717-8b52-2bbcba98bb51",
   "metadata": {},
   "outputs": [],
   "source": [
    "x,y = 2, 3"
   ]
  },
  {
   "cell_type": "code",
   "execution_count": 4,
   "id": "dcdaed63-1f7a-4bce-b31f-084e4d736ef6",
   "metadata": {},
   "outputs": [
    {
     "data": {
      "text/plain": [
       "2"
      ]
     },
     "execution_count": 4,
     "metadata": {},
     "output_type": "execute_result"
    }
   ],
   "source": [
    "x"
   ]
  },
  {
   "cell_type": "code",
   "execution_count": 6,
   "id": "cb3ed24b-e120-48fb-a10a-145ff320b8c9",
   "metadata": {},
   "outputs": [
    {
     "data": {
      "text/plain": [
       "'3D Objects'"
      ]
     },
     "execution_count": 6,
     "metadata": {},
     "output_type": "execute_result"
    }
   ],
   "source": [
    "y"
   ]
  },
  {
   "cell_type": "code",
   "execution_count": 7,
   "id": "090b1a20-729f-4ba6-af59-24289c14b5d8",
   "metadata": {},
   "outputs": [],
   "source": [
    "tu = (23, 'abc', 4.56, (2,3), 'def')"
   ]
  },
  {
   "cell_type": "code",
   "execution_count": 8,
   "id": "d5856465-240f-40d7-b291-f1c8177bc867",
   "metadata": {},
   "outputs": [
    {
     "data": {
      "text/plain": [
       "'abc'"
      ]
     },
     "execution_count": 8,
     "metadata": {},
     "output_type": "execute_result"
    }
   ],
   "source": [
    "tu[1]"
   ]
  },
  {
   "cell_type": "code",
   "execution_count": 9,
   "id": "b83db831-4803-4f8c-818a-d4eb11cb2661",
   "metadata": {},
   "outputs": [],
   "source": [
    "li = [\"abc\", 34, 4.34, 23]"
   ]
  },
  {
   "cell_type": "code",
   "execution_count": 10,
   "id": "b94b641e-8f5e-447d-a9e7-0a8ab6148f55",
   "metadata": {},
   "outputs": [
    {
     "data": {
      "text/plain": [
       "34"
      ]
     },
     "execution_count": 10,
     "metadata": {},
     "output_type": "execute_result"
    }
   ],
   "source": [
    "li[1]"
   ]
  },
  {
   "cell_type": "code",
   "execution_count": 11,
   "id": "478be48d-0b14-4386-9eab-6eec46551f73",
   "metadata": {},
   "outputs": [],
   "source": [
    "st = \"hello World\""
   ]
  },
  {
   "cell_type": "code",
   "execution_count": 12,
   "id": "d5b2a640-1c80-4897-8568-38d07c26627b",
   "metadata": {},
   "outputs": [
    {
     "data": {
      "text/plain": [
       "'e'"
      ]
     },
     "execution_count": 12,
     "metadata": {},
     "output_type": "execute_result"
    }
   ],
   "source": [
    "st[1]"
   ]
  },
  {
   "cell_type": "code",
   "execution_count": null,
   "id": "80f6c440-8f8b-4d5c-b394-f564f399bc98",
   "metadata": {},
   "outputs": [],
   "source": []
  }
 ],
 "metadata": {
  "kernelspec": {
   "display_name": "Python 3 (ipykernel)",
   "language": "python",
   "name": "python3"
  },
  "language_info": {
   "codemirror_mode": {
    "name": "ipython",
    "version": 3
   },
   "file_extension": ".py",
   "mimetype": "text/x-python",
   "name": "python",
   "nbconvert_exporter": "python",
   "pygments_lexer": "ipython3",
   "version": "3.8.11"
  }
 },
 "nbformat": 4,
 "nbformat_minor": 5
}
