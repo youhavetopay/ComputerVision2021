{
 "cells": [
  {
   "cell_type": "markdown",
   "metadata": {},
   "source": [
    "# 1.4.4 Smoothing Images"
   ]
  },
  {
   "cell_type": "markdown",
   "metadata": {},
   "source": [
    "## Kernel Convolution"
   ]
  },
  {
   "cell_type": "code",
   "execution_count": 1,
   "metadata": {},
   "outputs": [],
   "source": [
    "import cv2\n",
    "import numpy as np\n",
    "from matplotlib import pyplot as plt"
   ]
  },
  {
   "cell_type": "code",
   "execution_count": 2,
   "metadata": {},
   "outputs": [],
   "source": [
    "l=1\n",
    "kernel = np.array([[0,-1,0],[-1,4,-1],[0,-1,0]],np.float32)"
   ]
  },
  {
   "cell_type": "code",
   "execution_count": 3,
   "metadata": {},
   "outputs": [
    {
     "data": {
      "text/plain": [
       "array([[ 0., -1.,  0.],\n",
       "       [-1.,  4., -1.],\n",
       "       [ 0., -1.,  0.]], dtype=float32)"
      ]
     },
     "execution_count": 3,
     "metadata": {},
     "output_type": "execute_result"
    }
   ],
   "source": [
    "kernel"
   ]
  },
  {
   "cell_type": "code",
   "execution_count": 4,
   "metadata": {},
   "outputs": [],
   "source": [
    "img = np.random.randint(10, size=(12,12))\n",
    "#img = np.ones((10,10),np.float32)"
   ]
  },
  {
   "cell_type": "code",
   "execution_count": 5,
   "metadata": {},
   "outputs": [
    {
     "data": {
      "text/plain": [
       "array([[4, 4, 4, 8, 9, 0, 0, 2, 6, 4, 0, 0],\n",
       "       [1, 4, 2, 6, 4, 9, 6, 1, 6, 5, 8, 5],\n",
       "       [1, 0, 1, 1, 5, 6, 8, 0, 9, 5, 1, 6],\n",
       "       [1, 5, 6, 6, 5, 6, 8, 6, 2, 6, 3, 3],\n",
       "       [5, 1, 6, 4, 3, 2, 9, 5, 8, 1, 3, 4],\n",
       "       [2, 3, 2, 4, 5, 1, 7, 3, 9, 5, 0, 5],\n",
       "       [7, 9, 8, 1, 1, 5, 8, 3, 9, 4, 2, 1],\n",
       "       [2, 8, 5, 4, 9, 8, 0, 3, 7, 6, 1, 0],\n",
       "       [7, 9, 4, 3, 5, 7, 7, 4, 9, 9, 3, 9],\n",
       "       [3, 1, 9, 2, 6, 3, 2, 2, 0, 9, 9, 3],\n",
       "       [9, 1, 5, 6, 1, 6, 8, 9, 3, 9, 5, 7],\n",
       "       [3, 6, 0, 6, 4, 5, 9, 6, 8, 5, 9, 5]])"
      ]
     },
     "execution_count": 5,
     "metadata": {},
     "output_type": "execute_result"
    }
   ],
   "source": [
    "img"
   ]
  },
  {
   "cell_type": "code",
   "execution_count": 6,
   "metadata": {},
   "outputs": [],
   "source": [
    "h,w=img.shape"
   ]
  },
  {
   "cell_type": "code",
   "execution_count": 7,
   "metadata": {},
   "outputs": [
    {
     "name": "stdout",
     "output_type": "stream",
     "text": [
      "12 12\n"
     ]
    }
   ],
   "source": [
    "print(h,w)"
   ]
  },
  {
   "cell_type": "code",
   "execution_count": 8,
   "metadata": {},
   "outputs": [],
   "source": [
    "#[*range(-2,3)]"
   ]
  },
  {
   "cell_type": "code",
   "execution_count": 9,
   "metadata": {},
   "outputs": [
    {
     "name": "stderr",
     "output_type": "stream",
     "text": [
      "C:\\Users\\IZONE\\AppData\\Local\\Temp/ipykernel_13052/2160328971.py:1: DeprecationWarning: `np.int` is a deprecated alias for the builtin `int`. To silence this warning, use `int` by itself. Doing this will not modify any behavior and is safe. When replacing `np.int`, you may wish to use e.g. `np.int64` or `np.int32` to specify the precision. If you wish to review your current use, check the release note link for additional information.\n",
      "Deprecated in NumPy 1.20; for more details and guidance: https://numpy.org/devdocs/release/1.20.0-notes.html#deprecations\n",
      "  dst = np.zeros((h,w),np.int)\n"
     ]
    }
   ],
   "source": [
    "dst = np.zeros((h,w),np.int)"
   ]
  },
  {
   "cell_type": "code",
   "execution_count": 10,
   "metadata": {},
   "outputs": [],
   "source": [
    "for i in range(l,h-l):\n",
    "    for j in range(l,w-l):\n",
    "        t=0\n",
    "        for p in range(-l,l+1):\n",
    "            for q in range(-l,l+1):\n",
    "                t += kernel[p+l,q+l]*img[i+p,j+q]\n",
    "        dst[i,j]=t        "
   ]
  },
  {
   "cell_type": "code",
   "execution_count": 11,
   "metadata": {},
   "outputs": [
    {
     "data": {
      "text/plain": [
       "array([[4, 4, 4, 8, 9, 0, 0, 2, 6, 4, 0, 0],\n",
       "       [1, 4, 2, 6, 4, 9, 6, 1, 6, 5, 8, 5],\n",
       "       [1, 0, 1, 1, 5, 6, 8, 0, 9, 5, 1, 6],\n",
       "       [1, 5, 6, 6, 5, 6, 8, 6, 2, 6, 3, 3],\n",
       "       [5, 1, 6, 4, 3, 2, 9, 5, 8, 1, 3, 4],\n",
       "       [2, 3, 2, 4, 5, 1, 7, 3, 9, 5, 0, 5],\n",
       "       [7, 9, 8, 1, 1, 5, 8, 3, 9, 4, 2, 1],\n",
       "       [2, 8, 5, 4, 9, 8, 0, 3, 7, 6, 1, 0],\n",
       "       [7, 9, 4, 3, 5, 7, 7, 4, 9, 9, 3, 9],\n",
       "       [3, 1, 9, 2, 6, 3, 2, 2, 0, 9, 9, 3],\n",
       "       [9, 1, 5, 6, 1, 6, 8, 9, 3, 9, 5, 7],\n",
       "       [3, 6, 0, 6, 4, 5, 9, 6, 8, 5, 9, 5]])"
      ]
     },
     "execution_count": 11,
     "metadata": {},
     "output_type": "execute_result"
    }
   ],
   "source": [
    "img"
   ]
  },
  {
   "cell_type": "code",
   "execution_count": 12,
   "metadata": {},
   "outputs": [
    {
     "data": {
      "text/plain": [
       "array([[  0,   0,   0,   0,   0,   0,   0,   0,   0,   0,   0,   0],\n",
       "       [  0,   9,  -7,   9, -13,  20,   6, -10,   3,  -3,  21,   0],\n",
       "       [  0, -11,  -5, -14,   4,  -4,  12, -24,  23,  -1, -18,   0],\n",
       "       [  0,  12,   6,   8,   0,   3,   3,   9, -21,  13,  -1,   0],\n",
       "       [  0, -15,  11,  -3,  -4, -11,  14,  -6,  15, -18,   4,   0],\n",
       "       [  0,  -2, -13,   4,  11, -15,   7, -12,  11,   6, -15,   0],\n",
       "       [  0,  10,  15, -13, -16,   2,  17, -11,  13,  -6,   2,   0],\n",
       "       [  0,   7,  -4,  -2,  18,  11, -26,  -2,   1,   3,  -7,   0],\n",
       "       [  0,  16, -10,  -3,  -5,   5,  15,  -5,  16,   9, -16,   0],\n",
       "       [  0, -18,  24, -16,  13,  -9, -12,  -7, -23,   9,  16,   0],\n",
       "       [  0, -17,   4,  10, -18,   7,   6,  17, -14,  14, -14,   0],\n",
       "       [  0,   0,   0,   0,   0,   0,   0,   0,   0,   0,   0,   0]])"
      ]
     },
     "execution_count": 12,
     "metadata": {},
     "output_type": "execute_result"
    }
   ],
   "source": [
    "dst"
   ]
  },
  {
   "cell_type": "code",
   "execution_count": 13,
   "metadata": {},
   "outputs": [],
   "source": [
    "img = cv2.imread('lena.png', 0)"
   ]
  },
  {
   "cell_type": "code",
   "execution_count": 14,
   "metadata": {},
   "outputs": [],
   "source": [
    "h,w=img.shape"
   ]
  },
  {
   "cell_type": "code",
   "execution_count": 19,
   "metadata": {},
   "outputs": [],
   "source": [
    "l=1\n",
    "kernel = np.array([[0,-1,0],[-1,5,-1],[0,-1,0]],np.float32)"
   ]
  },
  {
   "cell_type": "code",
   "execution_count": 20,
   "metadata": {},
   "outputs": [
    {
     "data": {
      "text/plain": [
       "array([[ 0., -1.,  0.],\n",
       "       [-1.,  5., -1.],\n",
       "       [ 0., -1.,  0.]], dtype=float32)"
      ]
     },
     "execution_count": 20,
     "metadata": {},
     "output_type": "execute_result"
    }
   ],
   "source": [
    "kernel"
   ]
  },
  {
   "cell_type": "code",
   "execution_count": 21,
   "metadata": {},
   "outputs": [],
   "source": [
    "dst = np.zeros((h-2*l,w-2*l),np.uint8)"
   ]
  },
  {
   "cell_type": "code",
   "execution_count": 22,
   "metadata": {},
   "outputs": [],
   "source": [
    "for i in range(l,h-l):\n",
    "    for j in range(l,w-l):\n",
    "        t=0\n",
    "        for p in range(-l,l+1):\n",
    "            for q in range(-l,l+1):\n",
    "                t += kernel[p+l,q+l]*img[i+p,j+q]\n",
    "        dst[i-l,j-l]=t "
   ]
  },
  {
   "cell_type": "code",
   "execution_count": null,
   "metadata": {},
   "outputs": [],
   "source": [
    "cv2.imshow('img',img)\n",
    "cv2.imshow('dst',dst)\n",
    "cv2.waitKey(0)\n",
    "cv2.destroyAllWindows()"
   ]
  },
  {
   "cell_type": "code",
   "execution_count": null,
   "metadata": {},
   "outputs": [],
   "source": []
  }
 ],
 "metadata": {
  "kernelspec": {
   "display_name": "Python 3 (ipykernel)",
   "language": "python",
   "name": "python3"
  },
  "language_info": {
   "codemirror_mode": {
    "name": "ipython",
    "version": 3
   },
   "file_extension": ".py",
   "mimetype": "text/x-python",
   "name": "python",
   "nbconvert_exporter": "python",
   "pygments_lexer": "ipython3",
   "version": "3.8.11"
  }
 },
 "nbformat": 4,
 "nbformat_minor": 4
}
