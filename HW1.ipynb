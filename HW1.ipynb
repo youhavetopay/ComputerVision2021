{
 "cells": [
  {
   "cell_type": "markdown",
   "id": "a825e17b-fa73-438e-929b-98f257eba91b",
   "metadata": {},
   "source": [
    "### Homework 1"
   ]
  },
  {
   "cell_type": "code",
   "execution_count": 129,
   "id": "b51f37ac-3215-4ac2-8123-a8f48fa49e85",
   "metadata": {},
   "outputs": [],
   "source": [
    "import cv2\n",
    "import numpy as np"
   ]
  },
  {
   "cell_type": "code",
   "execution_count": 130,
   "id": "fc85890c-706a-417b-a11f-0ec5081a89ce",
   "metadata": {},
   "outputs": [],
   "source": [
    "def nothing(x):\n",
    "    pass"
   ]
  },
  {
   "cell_type": "code",
   "execution_count": 133,
   "id": "6413b932-2c87-4519-aadb-21581d780f81",
   "metadata": {},
   "outputs": [],
   "source": [
    "drawing = False # true if mouse is pressed\n",
    "ix,iy = -1,-1\n",
    "img = cv2.imread('backgroundImg.jpg',cv2.IMREAD_COLOR)\n",
    "chanel = 0\n",
    "endX, endY = -1, -1\n",
    "\n",
    "def draw_circle(event,x,y,flags,param):\n",
    "    global ix,iy,drawing,mode, img, endX, endY, chanel\n",
    "    if event == cv2.EVENT_LBUTTONDOWN:\n",
    "        drawing = True\n",
    "        ix,iy = x,y\n",
    "\n",
    "    elif event == cv2.EVENT_MOUSEMOVE:\n",
    "        if drawing == True:\n",
    "        \n",
    "            img = cv2.imread('backgroundImg.jpg',cv2.IMREAD_COLOR)\n",
    "            cv2.putText(img,\n",
    "                'position ('+str(ix)+', '+str(iy)+') - ('+str(endX)+', '+str(endY)+') - '+str(trackValue)+' - '+str(chanel)\n",
    "                ,(10,30), font, 0.5,(0,0,0),1,cv2.LINE_AA)\n",
    "            x, xw = (x, x+(ix-x)) if ix > x else (ix, ix+(x-ix))\n",
    "            y, yh = (y, y+(iy-y)) if iy > y else (iy, iy+(y-iy))\n",
    "            img[y:yh, x:xw, chanel] = 0\n",
    "                \n",
    "            \n",
    "                \n",
    "    elif event == cv2.EVENT_LBUTTONUP:\n",
    "        drawing = False\n",
    "        endX , endY = x, y\n",
    "        img = cv2.imread('backgroundImg.jpg',cv2.IMREAD_COLOR)\n",
    "        cv2.putText(img,\n",
    "                'position ('+str(ix)+', '+str(iy)+') - ('+str(endX)+', '+str(endY)+') - '+str(trackValue)+' - '+str(chanel)\n",
    "                ,(10,30), font, 0.5,(0,0,0),1,cv2.LINE_AA)\n",
    "        \n",
    "        x, xw = (x, x+(ix-x)) if ix > x else (ix, ix+(x-ix))\n",
    "        y, yh = (y, y+(iy-y)) if iy > y else (iy, iy+(y-iy))\n",
    "        img[y:yh, x:xw, chanel] = 0\n",
    "        "
   ]
  },
  {
   "cell_type": "code",
   "execution_count": 134,
   "id": "79d78302-2413-40c5-a007-dbc1279f8e26",
   "metadata": {},
   "outputs": [
    {
     "ename": "error",
     "evalue": "OpenCV(4.5.3) C:\\Users\\runneradmin\\AppData\\Local\\Temp\\pip-req-build-q3d_8t8e\\opencv\\modules\\highgui\\src\\window_w32.cpp:2577: error: (-27:Null pointer) NULL window: 'image' in function 'cvGetTrackbarPos'\n",
     "output_type": "error",
     "traceback": [
      "\u001b[1;31m---------------------------------------------------------------------------\u001b[0m",
      "\u001b[1;31merror\u001b[0m                                     Traceback (most recent call last)",
      "\u001b[1;32m~\\AppData\\Local\\Temp/ipykernel_18200/3633342574.py\u001b[0m in \u001b[0;36m<module>\u001b[1;34m\u001b[0m\n\u001b[0;32m      9\u001b[0m \u001b[1;33m\u001b[0m\u001b[0m\n\u001b[0;32m     10\u001b[0m \u001b[1;32mwhile\u001b[0m\u001b[1;33m(\u001b[0m\u001b[1;36m1\u001b[0m\u001b[1;33m)\u001b[0m\u001b[1;33m:\u001b[0m\u001b[1;33m\u001b[0m\u001b[1;33m\u001b[0m\u001b[0m\n\u001b[1;32m---> 11\u001b[1;33m     \u001b[0mtrackValue\u001b[0m \u001b[1;33m=\u001b[0m \u001b[0mcv2\u001b[0m\u001b[1;33m.\u001b[0m\u001b[0mgetTrackbarPos\u001b[0m\u001b[1;33m(\u001b[0m\u001b[1;34m'value'\u001b[0m\u001b[1;33m,\u001b[0m\u001b[1;34m'image'\u001b[0m\u001b[1;33m)\u001b[0m\u001b[1;33m\u001b[0m\u001b[1;33m\u001b[0m\u001b[0m\n\u001b[0m\u001b[0;32m     12\u001b[0m \u001b[1;33m\u001b[0m\u001b[0m\n\u001b[0;32m     13\u001b[0m     \u001b[0mcv2\u001b[0m\u001b[1;33m.\u001b[0m\u001b[0mimshow\u001b[0m\u001b[1;33m(\u001b[0m\u001b[1;34m'image'\u001b[0m\u001b[1;33m,\u001b[0m\u001b[0mimg\u001b[0m\u001b[1;33m)\u001b[0m\u001b[1;33m\u001b[0m\u001b[1;33m\u001b[0m\u001b[0m\n",
      "\u001b[1;31merror\u001b[0m: OpenCV(4.5.3) C:\\Users\\runneradmin\\AppData\\Local\\Temp\\pip-req-build-q3d_8t8e\\opencv\\modules\\highgui\\src\\window_w32.cpp:2577: error: (-27:Null pointer) NULL window: 'image' in function 'cvGetTrackbarPos'\n"
     ]
    }
   ],
   "source": [
    "cv2.namedWindow('image')\n",
    "cv2.setMouseCallback('image',draw_circle)\n",
    "cv2.createTrackbar('value','image',0,255,nothing)\n",
    "font = cv2.FONT_HERSHEY_SIMPLEX\n",
    "\n",
    "cv2.putText(img,\n",
    "                'position ('+str(ix)+', '+str(iy)+') - ('+str(endX)+', '+str(endY)+') - '+str(trackValue)+' - '+str(chanel)\n",
    "                ,(10,30), font, 0.5,(0,0,0),1,cv2.LINE_AA)\n",
    "\n",
    "while(1):     \n",
    "    trackValue = cv2.getTrackbarPos('value','image')\n",
    "    \n",
    "    cv2.imshow('image',img)\n",
    "    \n",
    "    k = cv2.waitKey(1) & 0xFF\n",
    "    if k == ord('m'):\n",
    "        if chanel < 2:\n",
    "            chanel += 1\n",
    "        else:\n",
    "            chanel = 0\n",
    "            \n",
    "    if k == 27:\n",
    "        break\n",
    "cv2.destroyAllWindows()"
   ]
  },
  {
   "cell_type": "code",
   "execution_count": null,
   "id": "9bf4530e-ff4a-43f2-bd10-4e4839b390b1",
   "metadata": {},
   "outputs": [],
   "source": []
  }
 ],
 "metadata": {
  "kernelspec": {
   "display_name": "Python 3 (ipykernel)",
   "language": "python",
   "name": "python3"
  },
  "language_info": {
   "codemirror_mode": {
    "name": "ipython",
    "version": 3
   },
   "file_extension": ".py",
   "mimetype": "text/x-python",
   "name": "python",
   "nbconvert_exporter": "python",
   "pygments_lexer": "ipython3",
   "version": "3.8.11"
  }
 },
 "nbformat": 4,
 "nbformat_minor": 5
}
