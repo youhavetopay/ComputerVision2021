{
 "cells": [
  {
   "cell_type": "code",
   "execution_count": 1,
   "id": "63ff4b17-4323-4e1a-8656-ec069174c07c",
   "metadata": {},
   "outputs": [],
   "source": [
    "def myfun(x,y):\n",
    "    return x * y"
   ]
  },
  {
   "cell_type": "code",
   "execution_count": 2,
   "id": "ce1fd89d-15be-43cc-a6c1-1a76db82b5e6",
   "metadata": {},
   "outputs": [
    {
     "data": {
      "text/plain": [
       "12"
      ]
     },
     "execution_count": 2,
     "metadata": {},
     "output_type": "execute_result"
    }
   ],
   "source": [
    "myfun(3,4)"
   ]
  },
  {
   "cell_type": "code",
   "execution_count": 3,
   "id": "a05b9784-9efc-4c23-9fab-114ba5afcc26",
   "metadata": {},
   "outputs": [],
   "source": [
    "def myfun(x):\n",
    "    return x*3"
   ]
  },
  {
   "cell_type": "code",
   "execution_count": 4,
   "id": "f585478c-64d0-456b-b8df-27215a1af2ae",
   "metadata": {},
   "outputs": [],
   "source": [
    "def apply(q,x):\n",
    "    return q(x)"
   ]
  },
  {
   "cell_type": "code",
   "execution_count": 5,
   "id": "604a4196-7596-4798-870a-110732d33dff",
   "metadata": {},
   "outputs": [
    {
     "data": {
      "text/plain": [
       "21"
      ]
     },
     "execution_count": 5,
     "metadata": {},
     "output_type": "execute_result"
    }
   ],
   "source": [
    "apply(myfun, 7)"
   ]
  },
  {
   "cell_type": "code",
   "execution_count": 6,
   "id": "6f2d6fe4-12a8-428b-a60b-e7a68c0b629c",
   "metadata": {},
   "outputs": [
    {
     "data": {
      "text/plain": [
       "28"
      ]
     },
     "execution_count": 6,
     "metadata": {},
     "output_type": "execute_result"
    }
   ],
   "source": [
    "apply(lambda z: z * 4, 7)"
   ]
  },
  {
   "cell_type": "code",
   "execution_count": 8,
   "id": "09597ece-640f-46e4-a87f-28883f1b1616",
   "metadata": {},
   "outputs": [],
   "source": [
    "def myfun(b, c=3, d='hello'):\n",
    "    return b + c"
   ]
  },
  {
   "cell_type": "code",
   "execution_count": 9,
   "id": "b3eacb23-e5e9-4c5a-abac-665431cb496e",
   "metadata": {},
   "outputs": [
    {
     "data": {
      "text/plain": [
       "8"
      ]
     },
     "execution_count": 9,
     "metadata": {},
     "output_type": "execute_result"
    }
   ],
   "source": [
    "myfun(5,3,'hello')"
   ]
  },
  {
   "cell_type": "code",
   "execution_count": 10,
   "id": "490879f7-9dee-483f-a632-a24ada1c989d",
   "metadata": {},
   "outputs": [
    {
     "data": {
      "text/plain": [
       "8"
      ]
     },
     "execution_count": 10,
     "metadata": {},
     "output_type": "execute_result"
    }
   ],
   "source": [
    "myfun(5,3)"
   ]
  },
  {
   "cell_type": "code",
   "execution_count": 11,
   "id": "297aeb5f-19c2-4181-be70-e5a5595d4642",
   "metadata": {},
   "outputs": [
    {
     "data": {
      "text/plain": [
       "8"
      ]
     },
     "execution_count": 11,
     "metadata": {},
     "output_type": "execute_result"
    }
   ],
   "source": [
    "myfun(5)"
   ]
  },
  {
   "cell_type": "code",
   "execution_count": 12,
   "id": "28f00b61-bd8b-4b7d-80b7-a14b084ba8f3",
   "metadata": {},
   "outputs": [],
   "source": [
    "def myfun(a,b,c):\n",
    "    return a-b"
   ]
  },
  {
   "cell_type": "code",
   "execution_count": 13,
   "id": "5a03fe97-ede9-4418-bcdf-0a9f7d45b83c",
   "metadata": {},
   "outputs": [
    {
     "data": {
      "text/plain": [
       "1"
      ]
     },
     "execution_count": 13,
     "metadata": {},
     "output_type": "execute_result"
    }
   ],
   "source": [
    "myfun(2,1,43)"
   ]
  },
  {
   "cell_type": "code",
   "execution_count": 14,
   "id": "0cc5a8d8-0ca3-468f-bf80-d39e0a42018b",
   "metadata": {},
   "outputs": [
    {
     "data": {
      "text/plain": [
       "1"
      ]
     },
     "execution_count": 14,
     "metadata": {},
     "output_type": "execute_result"
    }
   ],
   "source": [
    "myfun(c=43, b=1, a=2)"
   ]
  },
  {
   "cell_type": "code",
   "execution_count": 15,
   "id": "0867aeae-ea0a-4042-9e2b-f7aadcfc6c22",
   "metadata": {},
   "outputs": [
    {
     "data": {
      "text/plain": [
       "1"
      ]
     },
     "execution_count": 15,
     "metadata": {},
     "output_type": "execute_result"
    }
   ],
   "source": [
    "myfun(2, c=43, b=1)"
   ]
  },
  {
   "cell_type": "code",
   "execution_count": null,
   "id": "80a150e7-7431-46cd-8e63-f4ce93bbd26e",
   "metadata": {},
   "outputs": [],
   "source": []
  }
 ],
 "metadata": {
  "kernelspec": {
   "display_name": "Python 3 (ipykernel)",
   "language": "python",
   "name": "python3"
  },
  "language_info": {
   "codemirror_mode": {
    "name": "ipython",
    "version": 3
   },
   "file_extension": ".py",
   "mimetype": "text/x-python",
   "name": "python",
   "nbconvert_exporter": "python",
   "pygments_lexer": "ipython3",
   "version": "3.8.11"
  }
 },
 "nbformat": 4,
 "nbformat_minor": 5
}
