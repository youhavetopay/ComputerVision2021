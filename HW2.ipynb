{
 "cells": [
  {
   "cell_type": "markdown",
   "id": "25a1b830-2fa8-427e-8cf0-4a66281842e2",
   "metadata": {},
   "source": [
    "### HomeWork2"
   ]
  },
  {
   "cell_type": "code",
   "execution_count": 1,
   "id": "d7a229fd-eaea-4d9e-8fda-db4e7f9ba6d1",
   "metadata": {},
   "outputs": [],
   "source": [
    "import cv2\n",
    "import numpy as np"
   ]
  },
  {
   "cell_type": "code",
   "execution_count": 2,
   "id": "a24ff979-d254-4c44-a1ba-8b402264349b",
   "metadata": {},
   "outputs": [],
   "source": [
    "def nothing(value):\n",
    "    pass"
   ]
  },
  {
   "cell_type": "code",
   "execution_count": 3,
   "id": "61a1d4d7-c87a-4590-af6b-866813ec3c8b",
   "metadata": {},
   "outputs": [],
   "source": [
    "cap = cv2.VideoCapture(0)\n",
    "cv2.namedWindow('frame')\n",
    "\n",
    "cv2.createTrackbar('H_upper','frame',0, 180,nothing)\n",
    "cv2.createTrackbar('S_upper','frame',0,255,nothing)\n",
    "cv2.createTrackbar('V_upper','frame',0,255,nothing)\n",
    "\n",
    "cv2.createTrackbar('H_lower','frame',0, 180,nothing)\n",
    "cv2.createTrackbar('S_lower','frame',0,255,nothing)\n",
    "cv2.createTrackbar('V_lower','frame',0,255,nothing)\n",
    "\n",
    "while(1):\n",
    "    # Take each frame\n",
    "    _, frame = cap.read()\n",
    "    \n",
    "    # Convert BGR to HSV\n",
    "    hsv = cv2.cvtColor(frame, cv2.COLOR_BGR2HSV)\n",
    "    \n",
    "    H_upper = cv2.getTrackbarPos('H_upper','frame')\n",
    "    S_upper = cv2.getTrackbarPos('S_upper','frame')\n",
    "    V_upper = cv2.getTrackbarPos('V_upper','frame')\n",
    "    \n",
    "    H_lower = cv2.getTrackbarPos('H_lower','frame')\n",
    "    S_lower = cv2.getTrackbarPos('S_lower','frame')\n",
    "    V_lower = cv2.getTrackbarPos('V_lower','frame')\n",
    "    \n",
    "    # define range of blue color in HSV\n",
    "    lower_HSV = np.array([H_lower, S_lower, V_lower])\n",
    "    upper_HSV = np.array([H_upper, S_upper, V_upper])\n",
    "    \n",
    "    # Threshold the HSV image to get only blue colors\n",
    "    mask = cv2.inRange(hsv, lower_HSV, upper_HSV)\n",
    "    \n",
    "    # Bitwise-AND mask and original image\n",
    "    res = cv2.bitwise_and(frame,frame, mask= mask)\n",
    "    cv2.imshow('frame',frame)\n",
    "    cv2.imshow('mask',mask)\n",
    "    cv2.imshow('res',res)\n",
    "    \n",
    "    k = cv2.waitKey(5) & 0xFF\n",
    "    if k == 27:\n",
    "        break\n",
    "                       \n",
    "cv2.destroyAllWindows()"
   ]
  },
  {
   "cell_type": "code",
   "execution_count": null,
   "id": "ffedc394-422e-4efe-8a30-11e98e0b965e",
   "metadata": {},
   "outputs": [],
   "source": []
  }
 ],
 "metadata": {
  "kernelspec": {
   "display_name": "Python 3 (ipykernel)",
   "language": "python",
   "name": "python3"
  },
  "language_info": {
   "codemirror_mode": {
    "name": "ipython",
    "version": 3
   },
   "file_extension": ".py",
   "mimetype": "text/x-python",
   "name": "python",
   "nbconvert_exporter": "python",
   "pygments_lexer": "ipython3",
   "version": "3.8.11"
  }
 },
 "nbformat": 4,
 "nbformat_minor": 5
}
